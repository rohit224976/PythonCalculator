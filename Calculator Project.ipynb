{
 "cells": [
  {
   "cell_type": "code",
   "execution_count": 16,
   "id": "e3719aed-7058-46a3-aad4-bc3fc21821aa",
   "metadata": {},
   "outputs": [],
   "source": [
    "import tkinter as tk\n",
    "def press(num):\n",
    "    global expression\n",
    "    expression= expression + str(num)\n",
    "    equation.set(expression)\n",
    "\n",
    "def equalpress():\n",
    "    try:\n",
    "        global expression\n",
    "        total= str(eval(expression))\n",
    "        equation.set(total)\n",
    "        expression= \"\"\n",
    "    except:\n",
    "        equation.set('error')\n",
    "        expression= \"\"\n",
    "\n",
    "def clear():\n",
    "    global expression\n",
    "    expression = \"\"\n",
    "    equation.set(\"\")\n",
    "\n",
    "gui= tk.Tk()\n",
    "gui.configure(background=\"white\")\n",
    "gui.title(\"Calculator using Python\")\n",
    "gui.geometry(\"400x500\")\n",
    "expression=\"\"\n",
    "equation=tk.StringVar()\n",
    "\n",
    "expression_field = tk.Entry(gui, textvariable=equation, font=('Calibri',25), bd=9)\n",
    "expression_field.grid(columnspan=4 , ipadx=10, ipady=10)\n",
    "\n",
    "button=[\n",
    "    ('7',1,0),('8',1,1),('9',1,2),('+',1,3),\n",
    "    ('4',2,0),('5',2,1),('6',2,2),('-',2,3),\n",
    "    ('1',3,0),('2',3,1),('1',3,2),('*',3,3),\n",
    "    ('0',4,1),('=',4,2),('/',4,3)\n",
    "]\n",
    "\n",
    "\n",
    "for (text,row,col) in button:\n",
    "    if text== '=':\n",
    "         action= equalpress\n",
    "    else:\n",
    "        action= lambda x=text: press(x)\n",
    "    tk.Button(gui, text=text, fg=\"white\", bg=\"black\", command=action, height=4, width=9).grid(row=row, column=col)  \n",
    "\n",
    "tk.Button(gui, text= 'C',fg='black', bg='red', command=clear, height=4, width=9).grid(row=4, column=0)\n",
    "\n",
    "\n",
    "\n",
    "gui.mainloop()"
   ]
  },
  {
   "cell_type": "code",
   "execution_count": null,
   "id": "af77fe74-5592-40bf-b572-06e24eb8e4d1",
   "metadata": {},
   "outputs": [],
   "source": []
  },
  {
   "cell_type": "code",
   "execution_count": null,
   "id": "84a312a6-42a0-4ca8-8d15-2c4a2de0365d",
   "metadata": {},
   "outputs": [],
   "source": []
  }
 ],
 "metadata": {
  "kernelspec": {
   "display_name": "Python [conda env:base] *",
   "language": "python",
   "name": "conda-base-py"
  },
  "language_info": {
   "codemirror_mode": {
    "name": "ipython",
    "version": 3
   },
   "file_extension": ".py",
   "mimetype": "text/x-python",
   "name": "python",
   "nbconvert_exporter": "python",
   "pygments_lexer": "ipython3",
   "version": "3.12.7"
  }
 },
 "nbformat": 4,
 "nbformat_minor": 5
}
